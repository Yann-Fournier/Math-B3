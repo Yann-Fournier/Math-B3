{
 "cells": [
  {
   "metadata": {
    "ExecuteTime": {
     "end_time": "2024-11-14T14:08:54.144827Z",
     "start_time": "2024-11-14T14:08:54.142531Z"
    }
   },
   "cell_type": "code",
   "source": "# Image : ./downloadsIMG",
   "id": "8531d334dd9a41c4",
   "outputs": [],
   "execution_count": 181
  },
  {
   "cell_type": "code",
   "id": "initial_id",
   "metadata": {
    "collapsed": true,
    "ExecuteTime": {
     "end_time": "2024-11-14T14:08:54.191861Z",
     "start_time": "2024-11-14T14:08:54.188791Z"
    }
   },
   "source": [
    "import numpy as np\n",
    "\n",
    "from PIL import Image\n",
    "\n",
    "# Flask\n",
    "from flask import Flask, request, render_template\n",
    "\n",
    "# TensorFlow and tf.keras\n",
    "from tensorflow.keras.applications.imagenet_utils import preprocess_input, decode_predictions\n",
    "from tensorflow.keras.preprocessing import image\n"
   ],
   "outputs": [],
   "execution_count": 182
  },
  {
   "metadata": {
    "ExecuteTime": {
     "end_time": "2024-11-14T14:08:54.558490Z",
     "start_time": "2024-11-14T14:08:54.195866Z"
    }
   },
   "cell_type": "code",
   "source": [
    "# flask app\n",
    "app = Flask(__name__)\n",
    "\n",
    "# Modèle ImageNet\n",
    "from tensorflow.keras.applications.mobilenet_v2 import MobileNetV2\n",
    "\n",
    "model = MobileNetV2(weights='imagenet')"
   ],
   "id": "b9ab40e4d646528f",
   "outputs": [],
   "execution_count": 183
  },
  {
   "metadata": {
    "ExecuteTime": {
     "end_time": "2024-11-14T14:08:54.580623Z",
     "start_time": "2024-11-14T14:08:54.577127Z"
    }
   },
   "cell_type": "code",
   "source": [
    "def model_predict(img, model):\n",
    "    img = img.resize((224, 224))\n",
    "    x = image.img_to_array(img)\n",
    "    x = np.expand_dims(x, axis=0)\n",
    "    x = preprocess_input(x, mode='tf')\n",
    "    return model.predict(x)"
   ],
   "id": "78a4736672be8123",
   "outputs": [],
   "execution_count": 184
  },
  {
   "metadata": {
    "ExecuteTime": {
     "end_time": "2024-11-14T14:08:54.595468Z",
     "start_time": "2024-11-14T14:08:54.592203Z"
    }
   },
   "cell_type": "code",
   "source": [
    "def predict(img):\n",
    "    preds = model_predict(img, model)\n",
    "    pred_proba = \"{:.3f}\".format(np.amax(preds))\n",
    "    pred_class = decode_predictions(preds, top=1)\n",
    "    result = str(pred_class[0][0][1])\n",
    "    result = result.replace('_', '').capitalize()\n",
    "    return result\n",
    "    "
   ],
   "id": "1e8b39aa301716ca",
   "outputs": [],
   "execution_count": 185
  },
  {
   "metadata": {
    "ExecuteTime": {
     "end_time": "2024-11-14T14:10:12.883405Z",
     "start_time": "2024-11-14T14:08:54.614856Z"
    }
   },
   "cell_type": "code",
   "source": [
    "@app.route('/', methods=['POST', 'GET'])\n",
    "def index():\n",
    "    # Main page\n",
    "    return render_template('index.html')\n",
    "\n",
    "@app.route('/upload_image', methods=['GET', 'POST'])\n",
    "def upload_image():\n",
    "    # Vérifie si un fichier a été envoyé\n",
    "    if 'image' not in request.files:\n",
    "        return \"No file part\", 400\n",
    "    file = request.files['image']\n",
    "    \n",
    "    # Vérifie si le fichier est valide\n",
    "    if file.filename == '':\n",
    "        return \"No selected file\", 400\n",
    "    \n",
    "    if file.content_type not in ['image/jpeg', 'image/png', 'image/gif']:\n",
    "        return \"Le fichier doit être une image au format JPEG, PNG ou GIF\", 400\n",
    "    \n",
    "    try:\n",
    "        # Ouvrir l'image en utilisant PIL\n",
    "        image = Image.open(file.stream)\n",
    "        print(type(image))\n",
    "        # Si on arrive ici, l'image a bien été ouverte\n",
    "        image.verify()  # Vérifie l'intégrité du fichier*\n",
    "        \n",
    "        prediction = predict(image)\n",
    "        return f'{prediction}'\n",
    "\n",
    "    except Image.UnidentifiedImageError:\n",
    "        return \"Erreur : le fichier n'est pas une image valide\", 400\n",
    "\n",
    "    except Exception as e:\n",
    "        return f\"Erreur lors de la manipulation de l'image : {e}\", 500    \n",
    "\n",
    "if __name__ == '__main__':\n",
    "    app.run(host='localhost' ,port=5002, threaded=False)"
   ],
   "id": "d7d89f17d832d644",
   "outputs": [
    {
     "name": "stdout",
     "output_type": "stream",
     "text": [
      " * Serving Flask app '__main__'\n",
      " * Debug mode: off\n"
     ]
    },
    {
     "name": "stderr",
     "output_type": "stream",
     "text": [
      "WARNING: This is a development server. Do not use it in a production deployment. Use a production WSGI server instead.\n",
      " * Running on http://localhost:5002\n",
      "Press CTRL+C to quit\n",
      "127.0.0.1 - - [14/Nov/2024 15:08:58] \"GET / HTTP/1.1\" 200 -\n"
     ]
    },
    {
     "name": "stdout",
     "output_type": "stream",
     "text": [
      "<class 'PIL.WebPImagePlugin.WebPImageFile'>\n",
      "\u001B[1m1/1\u001B[0m \u001B[32m━━━━━━━━━━━━━━━━━━━━\u001B[0m\u001B[37m\u001B[0m \u001B[1m1s\u001B[0m 804ms/step\n"
     ]
    },
    {
     "name": "stderr",
     "output_type": "stream",
     "text": [
      "127.0.0.1 - - [14/Nov/2024 15:09:03] \"POST /upload_image HTTP/1.1\" 200 -\n"
     ]
    },
    {
     "name": "stdout",
     "output_type": "stream",
     "text": [
      "0.958\n"
     ]
    },
    {
     "name": "stderr",
     "output_type": "stream",
     "text": [
      "127.0.0.1 - - [14/Nov/2024 15:09:06] \"GET / HTTP/1.1\" 200 -\n"
     ]
    }
   ],
   "execution_count": 186
  },
  {
   "metadata": {
    "ExecuteTime": {
     "end_time": "2024-11-14T14:10:12.893844Z",
     "start_time": "2024-11-14T14:10:12.891037Z"
    }
   },
   "cell_type": "code",
   "source": "",
   "id": "1144cc97e2de4bc5",
   "outputs": [],
   "execution_count": null
  }
 ],
 "metadata": {
  "kernelspec": {
   "display_name": "Python 3",
   "language": "python",
   "name": "python3"
  },
  "language_info": {
   "codemirror_mode": {
    "name": "ipython",
    "version": 2
   },
   "file_extension": ".py",
   "mimetype": "text/x-python",
   "name": "python",
   "nbconvert_exporter": "python",
   "pygments_lexer": "ipython2",
   "version": "2.7.6"
  }
 },
 "nbformat": 4,
 "nbformat_minor": 5
}
