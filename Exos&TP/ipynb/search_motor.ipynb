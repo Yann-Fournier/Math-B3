{
 "cells": [
  {
   "cell_type": "code",
   "execution_count": 32,
   "metadata": {},
   "outputs": [],
   "source": [
    "from sklearn.feature_extraction.text import TfidfVectorizer # for TF-IDF (Term Frequency-Inverse Document Frequency) Vectorization \n",
    "from scipy.spatial import distance # for cosine similarity calculation (1 - cosine_similarity)\n",
    "from spicy import stats # for pearson correlation calculation"
   ]
  },
  {
   "cell_type": "markdown",
   "metadata": {},
   "source": [
    "##### Textes"
   ]
  },
  {
   "cell_type": "code",
   "execution_count": 33,
   "metadata": {},
   "outputs": [],
   "source": [
    "document1 = '''The release of DeepSeek R1 stunned Wall Street and Silicon Valley this month, spooking investors and impressing tech leaders. But amid all the talk, many overlooked a critical detail about the way the new Chinese AI model functions—a nuance that has researchers worried about humanity’s ability to control sophisticated new artificial intelligence systems.\n",
    "\n",
    "It’s all down to an innovation in how DeepSeek R1 was trained—one that led to surprising behaviors in an early version of the model, which researchers described in the technical documentation accompanying its release.\n",
    "\n",
    "During testing, researchers noticed that the model would spontaneously switch between English and Chinese while it was solving problems. When they forced it to stick to one language, thus making it easier for users to follow along, they found that the system’s ability to solve the same problems would diminish.\n",
    "\n",
    "That finding rang alarm bells for some AI safety researchers. Currently, the most capable AI systems “think” in human-legible languages, writing out their reasoning before coming to a conclusion. That has been a boon for safety teams, whose most effective guardrails involve monitoring models’ so-called “chains of thought” for signs of dangerous behaviors. But DeepSeek’s results raised the possibility of a decoupling on the horizon: one where new AI capabilities could be gained from freeing models of the constraints of human language altogether.\n",
    "\n",
    "To be sure, DeepSeek's language switching is not by itself cause for alarm. Instead, what worries researchers is the new innovation that caused it. The DeepSeek paper describes a novel training method whereby the model was rewarded purely for getting correct answers, regardless of how comprehensible its thinking process was to humans. The worry is that this incentive-based approach could eventually lead AI systems to develop completely inscrutable ways of reasoning, maybe even creating their own non-human languages, if doing so proves to be more effective.\n",
    "\n",
    "Were the AI industry to proceed in that direction—seeking more powerful systems by giving up on legibility—“it would take away what was looking like it could have been an easy win” for AI safety, says Sam Bowman, the leader of a research department at Anthropic, an AI company, focused on “aligning” AI to human preferences. “We would be forfeiting an ability that we might otherwise have had to keep an eye on them.'''"
   ]
  },
  {
   "cell_type": "code",
   "execution_count": 34,
   "metadata": {},
   "outputs": [],
   "source": [
    "document2 =  '''\n",
    "Two years ago, when big-name Chinese technology companies like Baidu and Alibaba were chasing Silicon Valley’s advances in artificial intelligence with splashy announcements and new chatbots, DeepSeek took a different approach. It zeroed in on research.\n",
    "\n",
    "The strategy paid off.\n",
    "\n",
    "The Chinese start-up has jolted the tech world with its claim that it created a powerful A.I. model that was significantly cheaper to build than the offerings of its better-funded American rivals.\n",
    "\n",
    "In the rivalry between China and the United States over domination of artificial intelligence, DeepSeek seemed to come out of nowhere. In fact, it has skyrocketed through China’s tech world in recent years with a path that was anything but conventional.\n",
    "\n",
    "Its mission to pursue research mirrors that of companies like OpenAI, the Silicon Valley firm that marked an American signature over A.I. in the fall of 2022. But the similarities mostly end there.\n",
    "\n",
    "'''"
   ]
  },
  {
   "cell_type": "code",
   "execution_count": 35,
   "metadata": {},
   "outputs": [],
   "source": [
    "document3 =  '''\n",
    "\n",
    "When a small Chinese company called DeepSeek revealed that it had created an A.I. system that could match leading A.I. products made in the United States, the news was greeted in many circles as a warning that China was closing the gap in the global race to build artificial intelligence.\n",
    "\n",
    "DeepSeek also said it built its new A.I. technology more cost effectively and with fewer hard-to-get computers chips than its American competitors, shocking an industry that had come to believe that bigger and better A.I. would cost billions and billions of dollars.\n",
    "\n",
    "'''"
   ]
  },
  {
   "cell_type": "markdown",
   "metadata": {},
   "source": [
    "##### Entrée utilisateur"
   ]
  },
  {
   "cell_type": "code",
   "execution_count": 36,
   "metadata": {},
   "outputs": [
    {
     "data": {
      "text/plain": [
       "'When a small Chinese company called DeepSeek'"
      ]
     },
     "execution_count": 36,
     "metadata": {},
     "output_type": "execute_result"
    }
   ],
   "source": [
    "query = input(\"Enter your query: \")\n",
    "query"
   ]
  },
  {
   "cell_type": "code",
   "execution_count": 37,
   "metadata": {},
   "outputs": [],
   "source": [
    "textes = [document1, document2, document3, query]"
   ]
  },
  {
   "cell_type": "markdown",
   "metadata": {},
   "source": [
    "#### Vectorisation des textes\n",
    "---"
   ]
  },
  {
   "cell_type": "code",
   "execution_count": 38,
   "metadata": {},
   "outputs": [],
   "source": [
    "vect = TfidfVectorizer()"
   ]
  },
  {
   "cell_type": "code",
   "execution_count": 39,
   "metadata": {},
   "outputs": [
    {
     "data": {
      "text/plain": [
       "array([[0.        , 0.09779446, 0.06519631, ..., 0.03259815, 0.        ,\n",
       "        0.        ],\n",
       "       [0.07183729, 0.        , 0.        , ..., 0.        , 0.14367458,\n",
       "        0.07183729],\n",
       "       [0.        , 0.        , 0.        , ..., 0.        , 0.        ,\n",
       "        0.        ],\n",
       "       [0.        , 0.        , 0.        , ..., 0.        , 0.        ,\n",
       "        0.        ]])"
      ]
     },
     "execution_count": 39,
     "metadata": {},
     "output_type": "execute_result"
    }
   ],
   "source": [
    "tfidf_mat = vect.fit_transform(textes).toarray()\n",
    "tfidf_mat"
   ]
  },
  {
   "cell_type": "markdown",
   "metadata": {},
   "source": [
    "#### "
   ]
  },
  {
   "cell_type": "code",
   "execution_count": 40,
   "metadata": {},
   "outputs": [],
   "source": [
    "query_tfidf = tfidf_mat[0]\n",
    "corpus_tfidf = tfidf_mat[1:]"
   ]
  },
  {
   "cell_type": "code",
   "execution_count": 41,
   "metadata": {},
   "outputs": [
    {
     "name": "stdout",
     "output_type": "stream",
     "text": [
      "The document 0 is similar to the query : 0.22272192756217873\n",
      "The document 1 is similar to the query : 0.20186206761680542\n"
     ]
    }
   ],
   "source": [
    "for id, doc in enumerate(corpus_tfidf):\n",
    "    pearson_correlation, _= stats.pearsonr(query_tfidf, doc)\n",
    "    if pearson_correlation > 0.20:\n",
    "        print(f\"The document {id} is similar to the query : {str(pearson_correlation)}\")"
   ]
  },
  {
   "cell_type": "code",
   "execution_count": null,
   "metadata": {},
   "outputs": [],
   "source": []
  }
 ],
 "metadata": {
  "kernelspec": {
   "display_name": "Cours_Maths_B3",
   "language": "python",
   "name": "python3"
  },
  "language_info": {
   "codemirror_mode": {
    "name": "ipython",
    "version": 3
   },
   "file_extension": ".py",
   "mimetype": "text/x-python",
   "name": "python",
   "nbconvert_exporter": "python",
   "pygments_lexer": "ipython3",
   "version": "3.11.4"
  }
 },
 "nbformat": 4,
 "nbformat_minor": 2
}
