{
 "cells": [
  {
   "cell_type": "markdown",
   "id": "3edd54a7a5b748e7",
   "metadata": {},
   "source": [
    "## Importation des bibliothèques\n",
    "\n",
    "---\n",
    "Après installations des différents packages, l’étape suivante consiste à importer les bibliothèques requises pour le mini projet.\n",
    "---"
   ]
  },
  {
   "cell_type": "code",
   "execution_count": 1,
   "id": "initial_id",
   "metadata": {
    "ExecuteTime": {
     "end_time": "2024-10-25T13:36:41.302825Z",
     "start_time": "2024-10-25T13:36:40.242129Z"
    },
    "collapsed": true
   },
   "outputs": [],
   "source": [
    "###### Pandas & Numpy #######\n",
    "import pandas as pd\n",
    "import numpy as np\n",
    "\n",
    "###### Sklearn #######\n",
    "from sklearn.model_selection import train_test_split\n",
    "from sklearn import metrics\n",
    " \n",
    "###### Xgboost Regression #######\n",
    "from xgboost import XGBRegressor"
   ]
  },
  {
   "cell_type": "markdown",
   "id": "f0a626db71dbfd54",
   "metadata": {},
   "source": [
    "## Définition des variables et données\n",
    "\n",
    "---\n",
    "Nous définissons la la série avec laquelle nous travaillerons.\n",
    "---"
   ]
  },
  {
   "cell_type": "code",
   "execution_count": 2,
   "id": "47bfa52c78a61d24",
   "metadata": {
    "ExecuteTime": {
     "end_time": "2024-10-25T13:36:41.348810Z",
     "start_time": "2024-10-25T13:36:41.323970Z"
    }
   },
   "outputs": [
    {
     "data": {
      "text/html": [
       "<div>\n",
       "<style scoped>\n",
       "    .dataframe tbody tr th:only-of-type {\n",
       "        vertical-align: middle;\n",
       "    }\n",
       "\n",
       "    .dataframe tbody tr th {\n",
       "        vertical-align: top;\n",
       "    }\n",
       "\n",
       "    .dataframe thead th {\n",
       "        text-align: right;\n",
       "    }\n",
       "</style>\n",
       "<table border=\"1\" class=\"dataframe\">\n",
       "  <thead>\n",
       "    <tr style=\"text-align: right;\">\n",
       "      <th></th>\n",
       "      <th>Hours</th>\n",
       "      <th>Calories</th>\n",
       "      <th>Weight</th>\n",
       "    </tr>\n",
       "  </thead>\n",
       "  <tbody>\n",
       "    <tr>\n",
       "      <th>0</th>\n",
       "      <td>1.0</td>\n",
       "      <td>2500</td>\n",
       "      <td>95</td>\n",
       "    </tr>\n",
       "    <tr>\n",
       "      <th>1</th>\n",
       "      <td>2.0</td>\n",
       "      <td>2000</td>\n",
       "      <td>85</td>\n",
       "    </tr>\n",
       "    <tr>\n",
       "      <th>2</th>\n",
       "      <td>2.5</td>\n",
       "      <td>1900</td>\n",
       "      <td>83</td>\n",
       "    </tr>\n",
       "    <tr>\n",
       "      <th>3</th>\n",
       "      <td>3.0</td>\n",
       "      <td>1850</td>\n",
       "      <td>81</td>\n",
       "    </tr>\n",
       "    <tr>\n",
       "      <th>4</th>\n",
       "      <td>3.5</td>\n",
       "      <td>1600</td>\n",
       "      <td>80</td>\n",
       "    </tr>\n",
       "  </tbody>\n",
       "</table>\n",
       "</div>"
      ],
      "text/plain": [
       "   Hours  Calories  Weight\n",
       "0    1.0      2500      95\n",
       "1    2.0      2000      85\n",
       "2    2.5      1900      83\n",
       "3    3.0      1850      81\n",
       "4    3.5      1600      80"
      ]
     },
     "execution_count": 2,
     "metadata": {},
     "output_type": "execute_result"
    }
   ],
   "source": [
    "######Définition datasets#######\n",
    "ColumnNames=['Hours','Calories', 'Weight']\n",
    "DataValues=[[ 1.0, 2500, 95],\n",
    "    [ 2.0, 2000, 85],\n",
    "    [ 2.5, 1900, 83],\n",
    "    [ 3.0, 1850, 81],\n",
    "    [ 3.5, 1600, 80],\n",
    "    [ 4.0, 1500, 78],\n",
    "    [ 5.0, 1500, 77],\n",
    "    [ 5.5, 1600, 80],\n",
    "    [ 6.0, 1700, 75],\n",
    "    [ 6.5, 1500, 70]\n",
    "]\n",
    "\n",
    "#######Data Frame######\n",
    "GymData=pd.DataFrame(data=DataValues,columns=ColumnNames)\n",
    "GymData.head()"
   ]
  },
  {
   "cell_type": "markdown",
   "id": "aeb8891f26a548e6",
   "metadata": {},
   "source": [
    "## Division des données d’entraînement et de tests\n",
    "\n",
    "---\n",
    "Nous allons diviser l'ensemble de notre datasets en données de test et d'entraînement.\n",
    "---"
   ]
  },
  {
   "cell_type": "code",
   "execution_count": 3,
   "id": "61233e766623dac5",
   "metadata": {
    "ExecuteTime": {
     "end_time": "2024-10-25T13:36:41.459727Z",
     "start_time": "2024-10-25T13:36:41.444728Z"
    }
   },
   "outputs": [],
   "source": [
    "# Séparer la variable cible et les variables prédictives\n",
    "TargetVariable='Weight'\n",
    "Predictors=['Hours','Calories']\n",
    "X=GymData[Predictors].values\n",
    "y=GymData[TargetVariable].values\n",
    "\n",
    "# Diviser les données en deux ensembles, l'un pour la formation et l'autre pour le test\n",
    "X_train, X_test, y_train, y_test = train_test_split(X, y,\n",
    "test_size=0.2, random_state=42)"
   ]
  },
  {
   "cell_type": "markdown",
   "id": "408995f88127f75",
   "metadata": {},
   "source": [
    "## Initialisation du modèle d'apprentissage automatique XGBoost\n",
    "\n",
    "---\n",
    "Nous utiliserons le modèle régression linéaire. Nous allons définir deux hyperparamètres à savoir max_depth et n_estimators. Ceux-ci sont placés sur le côté inférieur pour réduire le surajustement.\n",
    "---"
   ]
  },
  {
   "cell_type": "code",
   "execution_count": 4,
   "id": "2d201f8c2ab1f5df",
   "metadata": {
    "ExecuteTime": {
     "end_time": "2024-10-25T13:36:41.600998Z",
     "start_time": "2024-10-25T13:36:41.524533Z"
    }
   },
   "outputs": [
    {
     "name": "stdout",
     "output_type": "stream",
     "text": [
      "XGBRegressor(base_score=None, booster='gbtree', callbacks=None,\n",
      "             colsample_bylevel=None, colsample_bynode=None,\n",
      "             colsample_bytree=None, early_stopping_rounds=None,\n",
      "             enable_categorical=False, eval_metric=None, feature_types=None,\n",
      "             gamma=None, gpu_id=None, grow_policy=None, importance_type=None,\n",
      "             interaction_constraints=None, learning_rate=0.1, max_bin=None,\n",
      "             max_cat_threshold=None, max_cat_to_onehot=None,\n",
      "             max_delta_step=None, max_depth=3, max_leaves=None,\n",
      "             min_child_weight=None, missing=nan, monotone_constraints=None,\n",
      "             n_estimators=500, n_jobs=None, num_parallel_tree=None,\n",
      "             objective='reg:linear', predictor=None, ...)\n",
      "[15:36:41] WARNING: c:\\users\\dev-admin\\croot2\\xgboost-split_1675461376218\\work\\src\\objective\\regression_obj.cu:213: reg:linear is now deprecated in favor of reg:squarederror.\n"
     ]
    }
   ],
   "source": [
    "######## Initialisation du modèle #######\n",
    "RegModel=XGBRegressor(max_depth=3, learning_rate=0.1,\n",
    "n_estimators=500, objective='reg:linear', booster='gbtree')\n",
    "\n",
    "####### Impression de tous les paramètres de XGBoost ######\n",
    "print(RegModel)\n",
    "\n",
    "##### Création du modèle sur les données d'entraînement ####\n",
    "XGB=RegModel.fit(X_train,y_train)\n",
    "prediction=XGB.predict(X_test)"
   ]
  },
  {
   "cell_type": "markdown",
   "id": "29c228ce51ccef56",
   "metadata": {},
   "source": [
    "## Validation dans le jeu de données d'entraînement\n",
    "\n",
    "---\n",
    "Vérification de la précision desdonnées : 0 < R2 < 1\n",
    "---"
   ]
  },
  {
   "cell_type": "code",
   "execution_count": 5,
   "id": "d099eb1811278edc",
   "metadata": {
    "ExecuteTime": {
     "end_time": "2024-10-25T13:36:41.708048Z",
     "start_time": "2024-10-25T13:36:41.687536Z"
    }
   },
   "outputs": [
    {
     "name": "stdout",
     "output_type": "stream",
     "text": [
      "R2 Value: 0.9999999420985181\n",
      "Accuracy 97.18881764131434\n"
     ]
    }
   ],
   "source": [
    "#### Mesure de l'adéquation des données d'entraînement ####\n",
    "print('R2 Value:',metrics.r2_score(y_train,\n",
    "XGB.predict(X_train)))\n",
    "\n",
    "#### Mesure de la précision des données d'essai ####\n",
    "print('Accuracy',100- (np.mean(np.abs((y_test - prediction) /\n",
    "y_test)) * 100))"
   ]
  },
  {
   "cell_type": "markdown",
   "id": "47ff689772ca1076",
   "metadata": {},
   "source": [
    "## Prédiction\n",
    "\n",
    "---\n",
    "Cela peut être encore amélioré en réglant les hyperparamètres et en regroupant des stocks similaires.\n",
    "---"
   ]
  },
  {
   "cell_type": "code",
   "execution_count": 6,
   "id": "83406f56eab193e4",
   "metadata": {
    "ExecuteTime": {
     "end_time": "2024-10-25T13:36:41.799575Z",
     "start_time": "2024-10-25T13:36:41.779569Z"
    }
   },
   "outputs": [
    {
     "data": {
      "text/html": [
       "<div>\n",
       "<style scoped>\n",
       "    .dataframe tbody tr th:only-of-type {\n",
       "        vertical-align: middle;\n",
       "    }\n",
       "\n",
       "    .dataframe tbody tr th {\n",
       "        vertical-align: top;\n",
       "    }\n",
       "\n",
       "    .dataframe thead th {\n",
       "        text-align: right;\n",
       "    }\n",
       "</style>\n",
       "<table border=\"1\" class=\"dataframe\">\n",
       "  <thead>\n",
       "    <tr style=\"text-align: right;\">\n",
       "      <th></th>\n",
       "      <th>Hours</th>\n",
       "      <th>Calories</th>\n",
       "      <th>Weight</th>\n",
       "      <th>PredictedWeight</th>\n",
       "    </tr>\n",
       "  </thead>\n",
       "  <tbody>\n",
       "    <tr>\n",
       "      <th>0</th>\n",
       "      <td>6.0</td>\n",
       "      <td>1700.0</td>\n",
       "      <td>75</td>\n",
       "      <td>72.548080</td>\n",
       "    </tr>\n",
       "    <tr>\n",
       "      <th>1</th>\n",
       "      <td>2.0</td>\n",
       "      <td>2000.0</td>\n",
       "      <td>85</td>\n",
       "      <td>82.999832</td>\n",
       "    </tr>\n",
       "  </tbody>\n",
       "</table>\n",
       "</div>"
      ],
      "text/plain": [
       "   Hours  Calories  Weight  PredictedWeight\n",
       "0    6.0    1700.0      75        72.548080\n",
       "1    2.0    2000.0      85        82.999832"
      ]
     },
     "execution_count": 6,
     "metadata": {},
     "output_type": "execute_result"
    }
   ],
   "source": [
    "# Prediction\n",
    "TestingDataResults=pd.DataFrame(data=X_test,\n",
    "columns=Predictors)\n",
    "TestingDataResults[TargetVariable]=y_test\n",
    "TestingDataResults[('Predicted'+TargetVariable)]=prediction\n",
    "TestingDataResults.head()"
   ]
  }
 ],
 "metadata": {
  "kernelspec": {
   "display_name": "Cours_Maths_B3",
   "language": "python",
   "name": "python3"
  },
  "language_info": {
   "codemirror_mode": {
    "name": "ipython",
    "version": 2
   },
   "file_extension": ".py",
   "mimetype": "text/x-python",
   "name": "python",
   "nbconvert_exporter": "python",
   "pygments_lexer": "ipython2",
   "version": "3.11.4"
  }
 },
 "nbformat": 4,
 "nbformat_minor": 5
}
