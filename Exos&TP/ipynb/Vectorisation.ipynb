{
 "cells": [
  {
   "cell_type": "code",
   "execution_count": 30,
   "metadata": {},
   "outputs": [],
   "source": [
    "from sklearn.feature_extraction.text import TfidfVectorizer # for TF-IDF (Term Frequency-Inverse Document Frequency) Vectorization \n",
    "from scipy.spatial import distance # for cosine similarity calculation (1 - cosine_similarity)\n",
    "from spicy import stats # for pearson correlation calculation"
   ]
  },
  {
   "cell_type": "code",
   "execution_count": 31,
   "metadata": {},
   "outputs": [],
   "source": [
    "vect = TfidfVectorizer()"
   ]
  },
  {
   "cell_type": "markdown",
   "metadata": {},
   "source": [
    "### Exo 1\n",
    "---"
   ]
  },
  {
   "cell_type": "code",
   "execution_count": 32,
   "metadata": {},
   "outputs": [],
   "source": [
    "texts1 = [\n",
    "    \"Hello Ynov Paris\", \n",
    "    \"Hello Paris France\", \n",
    "    \"Bonjour Paris Ynov\"\n",
    "]"
   ]
  },
  {
   "cell_type": "code",
   "execution_count": 33,
   "metadata": {},
   "outputs": [
    {
     "data": {
      "text/plain": [
       "array([[0.        , 0.        , 0.61980538, 0.48133417, 0.61980538],\n",
       "       [0.        , 0.72033345, 0.54783215, 0.42544054, 0.        ],\n",
       "       [0.72033345, 0.        , 0.        , 0.42544054, 0.54783215]])"
      ]
     },
     "execution_count": 33,
     "metadata": {},
     "output_type": "execute_result"
    }
   ],
   "source": [
    "tfidf_mat1 = vect.fit_transform(texts1).toarray()\n",
    "tfidf_mat1"
   ]
  },
  {
   "cell_type": "code",
   "execution_count": 34,
   "metadata": {},
   "outputs": [
    {
     "data": {
      "text/plain": [
       "np.float64(0.5443283851010369)"
      ]
     },
     "execution_count": 34,
     "metadata": {},
     "output_type": "execute_result"
    }
   ],
   "source": [
    "cosine_similarity1 = 1 - distance.cosine(tfidf_mat1[0], tfidf_mat1[1])\n",
    "cosine_similarity1"
   ]
  },
  {
   "cell_type": "code",
   "execution_count": 35,
   "metadata": {},
   "outputs": [
    {
     "data": {
      "text/plain": [
       "PearsonRResult(statistic=np.float64(-0.09256939019660423), pvalue=np.float64(0.8823055386265114))"
      ]
     },
     "execution_count": 35,
     "metadata": {},
     "output_type": "execute_result"
    }
   ],
   "source": [
    "pearson_corr1 = stats.pearsonr(tfidf_mat1[0], tfidf_mat1[1])\n",
    "pearson_corr1"
   ]
  },
  {
   "cell_type": "markdown",
   "metadata": {},
   "source": [
    "### Exo 2\n",
    "---"
   ]
  },
  {
   "cell_type": "code",
   "execution_count": 36,
   "metadata": {},
   "outputs": [],
   "source": [
    "texts2 = [\n",
    "    \"Le traitement du langage naturel est fascinant\",\n",
    "    \"Le traitement des langues est une brache de l'intelligence artificielle\",\n",
    "    \"L'analyse de texte est utilise pour la traduction automatique\"\n",
    "]"
   ]
  },
  {
   "cell_type": "code",
   "execution_count": 37,
   "metadata": {},
   "outputs": [
    {
     "data": {
      "text/plain": [
       "array([[0.        , 0.        , 0.        , 0.        , 0.        ,\n",
       "        0.        , 0.4261835 , 0.25171084, 0.4261835 , 0.        ,\n",
       "        0.        , 0.4261835 , 0.        , 0.32412354, 0.4261835 ,\n",
       "        0.        , 0.        , 0.        , 0.32412354, 0.        ,\n",
       "        0.        ],\n",
       "       [0.        , 0.35171117, 0.        , 0.35171117, 0.26748541,\n",
       "        0.35171117, 0.        , 0.20772628, 0.        , 0.35171117,\n",
       "        0.        , 0.        , 0.35171117, 0.26748541, 0.        ,\n",
       "        0.        , 0.        , 0.        , 0.26748541, 0.35171117,\n",
       "        0.        ],\n",
       "       [0.35517252, 0.        , 0.35517252, 0.        , 0.27011786,\n",
       "        0.        , 0.        , 0.20977061, 0.        , 0.        ,\n",
       "        0.35517252, 0.        , 0.        , 0.        , 0.        ,\n",
       "        0.35517252, 0.35517252, 0.35517252, 0.        , 0.        ,\n",
       "        0.35517252]])"
      ]
     },
     "execution_count": 37,
     "metadata": {},
     "output_type": "execute_result"
    }
   ],
   "source": [
    "tfidf_mat2 = vect.fit_transform(texts2).toarray()\n",
    "tfidf_mat2"
   ]
  },
  {
   "cell_type": "code",
   "execution_count": 38,
   "metadata": {},
   "outputs": [
    {
     "data": {
      "text/plain": [
       "np.float64(0.22568359063594157)"
      ]
     },
     "execution_count": 38,
     "metadata": {},
     "output_type": "execute_result"
    }
   ],
   "source": [
    "cosine_similarity2 = 1 - distance.cosine(tfidf_mat2[0], tfidf_mat2[1])\n",
    "cosine_similarity2"
   ]
  },
  {
   "cell_type": "code",
   "execution_count": 39,
   "metadata": {},
   "outputs": [
    {
     "data": {
      "text/plain": [
       "PearsonRResult(statistic=np.float64(-0.26779116450298257), pvalue=np.float64(0.24054800123414335))"
      ]
     },
     "execution_count": 39,
     "metadata": {},
     "output_type": "execute_result"
    }
   ],
   "source": [
    "pearson_corr2 = stats.pearsonr(tfidf_mat2[0], tfidf_mat2[1])\n",
    "pearson_corr2"
   ]
  }
 ],
 "metadata": {
  "kernelspec": {
   "display_name": "Cours_Maths_B3",
   "language": "python",
   "name": "python3"
  },
  "language_info": {
   "codemirror_mode": {
    "name": "ipython",
    "version": 3
   },
   "file_extension": ".py",
   "mimetype": "text/x-python",
   "name": "python",
   "nbconvert_exporter": "python",
   "pygments_lexer": "ipython3",
   "version": "3.11.4"
  }
 },
 "nbformat": 4,
 "nbformat_minor": 2
}
