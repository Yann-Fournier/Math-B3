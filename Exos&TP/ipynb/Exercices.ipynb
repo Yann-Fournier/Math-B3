{
 "cells": [
  {
   "cell_type": "code",
   "execution_count": 1,
   "id": "initial_id",
   "metadata": {
    "ExecuteTime": {
     "end_time": "2024-11-14T10:55:18.298571Z",
     "start_time": "2024-11-14T10:55:17.916285Z"
    },
    "collapsed": true
   },
   "outputs": [],
   "source": [
    "import pandas as pd"
   ]
  },
  {
   "cell_type": "code",
   "execution_count": 2,
   "id": "5a3791e78bc80414",
   "metadata": {
    "ExecuteTime": {
     "end_time": "2024-11-14T10:55:18.335080Z",
     "start_time": "2024-11-14T10:55:18.319983Z"
    },
    "collapsed": false
   },
   "outputs": [
    {
     "data": {
      "text/html": [
       "<div>\n",
       "<style scoped>\n",
       "    .dataframe tbody tr th:only-of-type {\n",
       "        vertical-align: middle;\n",
       "    }\n",
       "\n",
       "    .dataframe tbody tr th {\n",
       "        vertical-align: top;\n",
       "    }\n",
       "\n",
       "    .dataframe thead th {\n",
       "        text-align: right;\n",
       "    }\n",
       "</style>\n",
       "<table border=\"1\" class=\"dataframe\">\n",
       "  <thead>\n",
       "    <tr style=\"text-align: right;\">\n",
       "      <th></th>\n",
       "      <th>Mois</th>\n",
       "      <th>Société Général</th>\n",
       "      <th>Air France</th>\n",
       "    </tr>\n",
       "  </thead>\n",
       "  <tbody>\n",
       "    <tr>\n",
       "      <th>0</th>\n",
       "      <td>Juin 2009</td>\n",
       "      <td>-5.1700</td>\n",
       "      <td>-18.9700</td>\n",
       "    </tr>\n",
       "    <tr>\n",
       "      <th>1</th>\n",
       "      <td>Juillet 2009</td>\n",
       "      <td>15.8700</td>\n",
       "      <td>-2.9700</td>\n",
       "    </tr>\n",
       "    <tr>\n",
       "      <th>2</th>\n",
       "      <td>Aout 2009</td>\n",
       "      <td>24.7700</td>\n",
       "      <td>20.6100</td>\n",
       "    </tr>\n",
       "    <tr>\n",
       "      <th>3</th>\n",
       "      <td>Septembre 2009</td>\n",
       "      <td>-2.1500</td>\n",
       "      <td>16.6200</td>\n",
       "    </tr>\n",
       "    <tr>\n",
       "      <th>4</th>\n",
       "      <td>Octobre 2009</td>\n",
       "      <td>-17.4900</td>\n",
       "      <td>-15.7800</td>\n",
       "    </tr>\n",
       "    <tr>\n",
       "      <th>5</th>\n",
       "      <td>Novembre 2009</td>\n",
       "      <td>3.3300</td>\n",
       "      <td>0.9600</td>\n",
       "    </tr>\n",
       "    <tr>\n",
       "      <th>6</th>\n",
       "      <td>Décembre 2009</td>\n",
       "      <td>4.3900</td>\n",
       "      <td>4.1700</td>\n",
       "    </tr>\n",
       "    <tr>\n",
       "      <th>7</th>\n",
       "      <td>Janvier 2010</td>\n",
       "      <td>-13.7700</td>\n",
       "      <td>7.5500</td>\n",
       "    </tr>\n",
       "    <tr>\n",
       "      <th>8</th>\n",
       "      <td>Février 2010</td>\n",
       "      <td>-4.2900</td>\n",
       "      <td>-17.0800</td>\n",
       "    </tr>\n",
       "    <tr>\n",
       "      <th>9</th>\n",
       "      <td>Mars 2010</td>\n",
       "      <td>15.2500</td>\n",
       "      <td>19.2700</td>\n",
       "    </tr>\n",
       "    <tr>\n",
       "      <th>10</th>\n",
       "      <td>Avril 2010</td>\n",
       "      <td>-13.2300</td>\n",
       "      <td>1.7100</td>\n",
       "    </tr>\n",
       "    <tr>\n",
       "      <th>11</th>\n",
       "      <td>Mai 2010</td>\n",
       "      <td>-13.2400</td>\n",
       "      <td>-17.0600</td>\n",
       "    </tr>\n",
       "    <tr>\n",
       "      <th>12</th>\n",
       "      <td>Moyenne</td>\n",
       "      <td>-0.4775</td>\n",
       "      <td>-0.0808</td>\n",
       "    </tr>\n",
       "  </tbody>\n",
       "</table>\n",
       "</div>"
      ],
      "text/plain": [
       "              Mois  Société Général  Air France\n",
       "0        Juin 2009          -5.1700    -18.9700\n",
       "1     Juillet 2009          15.8700     -2.9700\n",
       "2        Aout 2009          24.7700     20.6100\n",
       "3   Septembre 2009          -2.1500     16.6200\n",
       "4     Octobre 2009         -17.4900    -15.7800\n",
       "5    Novembre 2009           3.3300      0.9600\n",
       "6    Décembre 2009           4.3900      4.1700\n",
       "7     Janvier 2010         -13.7700      7.5500\n",
       "8     Février 2010          -4.2900    -17.0800\n",
       "9        Mars 2010          15.2500     19.2700\n",
       "10      Avril 2010         -13.2300      1.7100\n",
       "11        Mai 2010         -13.2400    -17.0600\n",
       "12         Moyenne          -0.4775     -0.0808"
      ]
     },
     "execution_count": 2,
     "metadata": {},
     "output_type": "execute_result"
    }
   ],
   "source": [
    "data = pd.DataFrame({\n",
    "    \"Mois\" : [\"Juin 2009\", \"Juillet 2009\", \"Aout 2009\", \"Septembre 2009\", \"Octobre 2009\", \"Novembre 2009\", \"Décembre 2009\", \"Janvier 2010\", \"Février 2010\", \"Mars 2010\", \"Avril 2010\", \"Mai 2010\", \"Moyenne\"],\n",
    "    \"Société Général\" : [-5.17, 15.87, 24.77, -2.15, -17.49, 3.33, 4.39, -13.77, -4.29, 15.25, -13.23, -13.24, -0.4775],\n",
    "    \"Air France\" : [-18.97, -2.97, 20.61, 16.62, -15.78, 0.96, 4.17, 7.55, -17.08, 19.27, 1.71, -17.06, -0.0808]\n",
    "})\n",
    "data"
   ]
  },
  {
   "cell_type": "code",
   "execution_count": 3,
   "id": "b8b86a8b70285b82",
   "metadata": {
    "ExecuteTime": {
     "end_time": "2024-11-14T10:55:18.876134Z",
     "start_time": "2024-11-14T10:55:18.871439Z"
    },
    "collapsed": false
   },
   "outputs": [
    {
     "data": {
      "text/plain": [
       "np.float64(107.43151041666665)"
      ]
     },
     "execution_count": 3,
     "metadata": {},
     "output_type": "execute_result"
    }
   ],
   "source": [
    "data[\"Société Général\"].cov(data[\"Air France\"])"
   ]
  },
  {
   "cell_type": "code",
   "execution_count": null,
   "id": "574862453ac1d5c",
   "metadata": {
    "ExecuteTime": {
     "end_time": "2024-11-14T10:55:18.995308Z",
     "start_time": "2024-11-14T10:55:18.993131Z"
    },
    "collapsed": false
   },
   "outputs": [],
   "source": []
  }
 ],
 "metadata": {
  "kernelspec": {
   "display_name": "Cours_Maths_B3",
   "language": "python",
   "name": "python3"
  },
  "language_info": {
   "codemirror_mode": {
    "name": "ipython",
    "version": 2
   },
   "file_extension": ".py",
   "mimetype": "text/x-python",
   "name": "python",
   "nbconvert_exporter": "python",
   "pygments_lexer": "ipython2",
   "version": "3.11.4"
  }
 },
 "nbformat": 4,
 "nbformat_minor": 5
}
