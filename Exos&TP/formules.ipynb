{
 "cells": [
  {
   "cell_type": "code",
   "execution_count": 4,
   "metadata": {},
   "outputs": [],
   "source": [
    "import numpy as np"
   ]
  },
  {
   "cell_type": "code",
   "execution_count": 5,
   "metadata": {},
   "outputs": [],
   "source": [
    "matrix = np.array([\n",
    "    [12, 45, 78, 89],\n",
    "    [56, 78, 90, 123],\n",
    "    [34, 56, 78, 89],\n",
    "    [45, 67, 89, 100], \n",
    "    [23, 45, 67, 78],\n",
    "    [78, 90, 123, 145],\n",
    "    [56, 78, 90, 123], \n",
    "    [34, 56, 78, 89]\n",
    "])\n",
    "\n",
    "# Min-Max Normalization\n",
    "X_min = 0 # Ou X_min = np.min(matrix) (12)\n",
    "X_max = 255 # Ou X_max = np.max(matrix) (145)"
   ]
  },
  {
   "cell_type": "code",
   "execution_count": 6,
   "metadata": {},
   "outputs": [
    {
     "data": {
      "text/plain": [
       "array([[0.04705882, 0.17647059, 0.30588235, 0.34901961],\n",
       "       [0.21960784, 0.30588235, 0.35294118, 0.48235294],\n",
       "       [0.13333333, 0.21960784, 0.30588235, 0.34901961],\n",
       "       [0.17647059, 0.2627451 , 0.34901961, 0.39215686],\n",
       "       [0.09019608, 0.17647059, 0.2627451 , 0.30588235],\n",
       "       [0.30588235, 0.35294118, 0.48235294, 0.56862745],\n",
       "       [0.21960784, 0.30588235, 0.35294118, 0.48235294],\n",
       "       [0.13333333, 0.21960784, 0.30588235, 0.34901961]])"
      ]
     },
     "execution_count": 6,
     "metadata": {},
     "output_type": "execute_result"
    }
   ],
   "source": [
    "normalized_matrix = (matrix - X_min) / (X_max - X_min)\n",
    "normalized_matrix"
   ]
  }
 ],
 "metadata": {
  "kernelspec": {
   "display_name": "Cours_Maths_B3",
   "language": "python",
   "name": "python3"
  },
  "language_info": {
   "codemirror_mode": {
    "name": "ipython",
    "version": 3
   },
   "file_extension": ".py",
   "mimetype": "text/x-python",
   "name": "python",
   "nbconvert_exporter": "python",
   "pygments_lexer": "ipython3",
   "version": "3.11.4"
  }
 },
 "nbformat": 4,
 "nbformat_minor": 2
}
