{
 "cells": [
  {
   "cell_type": "code",
   "execution_count": 2,
   "id": "initial_id",
   "metadata": {
    "collapsed": true,
    "ExecuteTime": {
     "end_time": "2024-10-25T09:08:52.609465100Z",
     "start_time": "2024-10-25T09:08:52.063115200Z"
    }
   },
   "outputs": [],
   "source": [
    "import pandas as pd"
   ]
  },
  {
   "cell_type": "code",
   "outputs": [
    {
     "data": {
      "text/plain": "                             Email  \\\n0        mstephenson@fernandez.com   \n1                hduke@hotmail.com   \n2                 pallen@yahoo.com   \n3          riverarebecca@gmail.com   \n4    mstephens@davidson-herman.com   \n..                             ...   \n495   lewisjessica@craig-evans.com   \n496            katrina56@gmail.com   \n497             dale88@hotmail.com   \n498            cwilson@hotmail.com   \n499      hannahwilson@davidson.com   \n\n                                               Address            Avatar  \\\n0         835 Frank Tunnel\\nWrightmouth, MI 82180-9605            Violet   \n1       4547 Archer Common\\nDiazchester, CA 06566-8576         DarkGreen   \n2    24645 Valerie Unions Suite 582\\nCobbborough, D...            Bisque   \n3     1414 David Throughway\\nPort Jason, OH 22070-1220       SaddleBrown   \n4    14023 Rodriguez Passage\\nPort Jacobville, PR 3...  MediumAquaMarine   \n..                                                 ...               ...   \n495  4483 Jones Motorway Suite 872\\nLake Jamiefurt,...               Tan   \n496  172 Owen Divide Suite 497\\nWest Richard, CA 19320     PaleVioletRed   \n497  0787 Andrews Ranch Apt. 633\\nSouth Chadburgh, ...          Cornsilk   \n498  680 Jennifer Lodge Apt. 808\\nBrendachester, TX...              Teal   \n499  49791 Rachel Heights Apt. 898\\nEast Drewboroug...       DarkMagenta   \n\n     Avg. Session Length  Time on App  Time on Website  Length of Membership  \\\n0              34.497268    12.655651        39.577668              4.082621   \n1              31.926272    11.109461        37.268959              2.664034   \n2              33.000915    11.330278        37.110597              4.104543   \n3              34.305557    13.717514        36.721283              3.120179   \n4              33.330673    12.795189        37.536653              4.446308   \n..                   ...          ...              ...                   ...   \n495            33.237660    13.566160        36.417985              3.746573   \n496            34.702529    11.695736        37.190268              3.576526   \n497            32.646777    11.499409        38.332576              4.958264   \n498            33.322501    12.391423        36.840086              2.336485   \n499            33.715981    12.418808        35.771016              2.735160   \n\n     Yearly Amount Spent  \n0             587.951054  \n1             392.204933  \n2             487.547505  \n3             581.852344  \n4             599.406092  \n..                   ...  \n495           573.847438  \n496           529.049004  \n497           551.620145  \n498           456.469510  \n499           497.778642  \n\n[500 rows x 8 columns]",
      "text/html": "<div>\n<style scoped>\n    .dataframe tbody tr th:only-of-type {\n        vertical-align: middle;\n    }\n\n    .dataframe tbody tr th {\n        vertical-align: top;\n    }\n\n    .dataframe thead th {\n        text-align: right;\n    }\n</style>\n<table border=\"1\" class=\"dataframe\">\n  <thead>\n    <tr style=\"text-align: right;\">\n      <th></th>\n      <th>Email</th>\n      <th>Address</th>\n      <th>Avatar</th>\n      <th>Avg. Session Length</th>\n      <th>Time on App</th>\n      <th>Time on Website</th>\n      <th>Length of Membership</th>\n      <th>Yearly Amount Spent</th>\n    </tr>\n  </thead>\n  <tbody>\n    <tr>\n      <th>0</th>\n      <td>mstephenson@fernandez.com</td>\n      <td>835 Frank Tunnel\\nWrightmouth, MI 82180-9605</td>\n      <td>Violet</td>\n      <td>34.497268</td>\n      <td>12.655651</td>\n      <td>39.577668</td>\n      <td>4.082621</td>\n      <td>587.951054</td>\n    </tr>\n    <tr>\n      <th>1</th>\n      <td>hduke@hotmail.com</td>\n      <td>4547 Archer Common\\nDiazchester, CA 06566-8576</td>\n      <td>DarkGreen</td>\n      <td>31.926272</td>\n      <td>11.109461</td>\n      <td>37.268959</td>\n      <td>2.664034</td>\n      <td>392.204933</td>\n    </tr>\n    <tr>\n      <th>2</th>\n      <td>pallen@yahoo.com</td>\n      <td>24645 Valerie Unions Suite 582\\nCobbborough, D...</td>\n      <td>Bisque</td>\n      <td>33.000915</td>\n      <td>11.330278</td>\n      <td>37.110597</td>\n      <td>4.104543</td>\n      <td>487.547505</td>\n    </tr>\n    <tr>\n      <th>3</th>\n      <td>riverarebecca@gmail.com</td>\n      <td>1414 David Throughway\\nPort Jason, OH 22070-1220</td>\n      <td>SaddleBrown</td>\n      <td>34.305557</td>\n      <td>13.717514</td>\n      <td>36.721283</td>\n      <td>3.120179</td>\n      <td>581.852344</td>\n    </tr>\n    <tr>\n      <th>4</th>\n      <td>mstephens@davidson-herman.com</td>\n      <td>14023 Rodriguez Passage\\nPort Jacobville, PR 3...</td>\n      <td>MediumAquaMarine</td>\n      <td>33.330673</td>\n      <td>12.795189</td>\n      <td>37.536653</td>\n      <td>4.446308</td>\n      <td>599.406092</td>\n    </tr>\n    <tr>\n      <th>...</th>\n      <td>...</td>\n      <td>...</td>\n      <td>...</td>\n      <td>...</td>\n      <td>...</td>\n      <td>...</td>\n      <td>...</td>\n      <td>...</td>\n    </tr>\n    <tr>\n      <th>495</th>\n      <td>lewisjessica@craig-evans.com</td>\n      <td>4483 Jones Motorway Suite 872\\nLake Jamiefurt,...</td>\n      <td>Tan</td>\n      <td>33.237660</td>\n      <td>13.566160</td>\n      <td>36.417985</td>\n      <td>3.746573</td>\n      <td>573.847438</td>\n    </tr>\n    <tr>\n      <th>496</th>\n      <td>katrina56@gmail.com</td>\n      <td>172 Owen Divide Suite 497\\nWest Richard, CA 19320</td>\n      <td>PaleVioletRed</td>\n      <td>34.702529</td>\n      <td>11.695736</td>\n      <td>37.190268</td>\n      <td>3.576526</td>\n      <td>529.049004</td>\n    </tr>\n    <tr>\n      <th>497</th>\n      <td>dale88@hotmail.com</td>\n      <td>0787 Andrews Ranch Apt. 633\\nSouth Chadburgh, ...</td>\n      <td>Cornsilk</td>\n      <td>32.646777</td>\n      <td>11.499409</td>\n      <td>38.332576</td>\n      <td>4.958264</td>\n      <td>551.620145</td>\n    </tr>\n    <tr>\n      <th>498</th>\n      <td>cwilson@hotmail.com</td>\n      <td>680 Jennifer Lodge Apt. 808\\nBrendachester, TX...</td>\n      <td>Teal</td>\n      <td>33.322501</td>\n      <td>12.391423</td>\n      <td>36.840086</td>\n      <td>2.336485</td>\n      <td>456.469510</td>\n    </tr>\n    <tr>\n      <th>499</th>\n      <td>hannahwilson@davidson.com</td>\n      <td>49791 Rachel Heights Apt. 898\\nEast Drewboroug...</td>\n      <td>DarkMagenta</td>\n      <td>33.715981</td>\n      <td>12.418808</td>\n      <td>35.771016</td>\n      <td>2.735160</td>\n      <td>497.778642</td>\n    </tr>\n  </tbody>\n</table>\n<p>500 rows × 8 columns</p>\n</div>"
     },
     "execution_count": 10,
     "metadata": {},
     "output_type": "execute_result"
    }
   ],
   "source": [
    "df_Ecommerce = pd.read_csv(\"Datasets/Ecommerce Customers.csv\")\n",
    "df_Ecommerce"
   ],
   "metadata": {
    "collapsed": false,
    "ExecuteTime": {
     "end_time": "2024-10-25T09:10:06.235034600Z",
     "start_time": "2024-10-25T09:10:06.207521400Z"
    }
   },
   "id": "e82dacbf05da4263",
   "execution_count": 10
  },
  {
   "cell_type": "code",
   "outputs": [
    {
     "name": "stdout",
     "output_type": "stream",
     "text": [
      "<class 'pandas.core.frame.DataFrame'>\n",
      "RangeIndex: 500 entries, 0 to 499\n",
      "Data columns (total 8 columns):\n",
      " #   Column                Non-Null Count  Dtype  \n",
      "---  ------                --------------  -----  \n",
      " 0   Email                 500 non-null    object \n",
      " 1   Address               500 non-null    object \n",
      " 2   Avatar                500 non-null    object \n",
      " 3   Avg. Session Length   500 non-null    float64\n",
      " 4   Time on App           500 non-null    float64\n",
      " 5   Time on Website       500 non-null    float64\n",
      " 6   Length of Membership  500 non-null    float64\n",
      " 7   Yearly Amount Spent   500 non-null    float64\n",
      "dtypes: float64(5), object(3)\n",
      "memory usage: 31.4+ KB\n"
     ]
    }
   ],
   "source": [
    "df_Ecommerce.info()"
   ],
   "metadata": {
    "collapsed": false,
    "ExecuteTime": {
     "end_time": "2024-10-25T09:08:52.794083700Z",
     "start_time": "2024-10-25T09:08:52.673245900Z"
    }
   },
   "id": "61dedeccf26d5b8c",
   "execution_count": 6
  },
  {
   "cell_type": "code",
   "outputs": [
    {
     "data": {
      "text/plain": "Email                   500\nAddress                 500\nAvatar                  138\nAvg. Session Length     500\nTime on App             500\nTime on Website         500\nLength of Membership    500\nYearly Amount Spent     500\ndtype: int64"
     },
     "execution_count": 7,
     "metadata": {},
     "output_type": "execute_result"
    }
   ],
   "source": [
    "df_Ecommerce.nunique()"
   ],
   "metadata": {
    "collapsed": false,
    "ExecuteTime": {
     "end_time": "2024-10-25T09:08:52.796084700Z",
     "start_time": "2024-10-25T09:08:52.689916600Z"
    }
   },
   "id": "1963c7540765963d",
   "execution_count": 7
  },
  {
   "cell_type": "code",
   "outputs": [
    {
     "data": {
      "text/plain": "       Avg. Session Length  Time on App  Time on Website  \\\ncount           500.000000   500.000000       500.000000   \nmean             33.053194    12.052488        37.060445   \nstd               0.992563     0.994216         1.010489   \nmin              29.532429     8.508152        33.913847   \n25%              32.341822    11.388153        36.349257   \n50%              33.082008    11.983231        37.069367   \n75%              33.711985    12.753850        37.716432   \nmax              36.139662    15.126994        40.005182   \n\n       Length of Membership  Yearly Amount Spent  \ncount            500.000000           500.000000  \nmean               3.533462           499.314038  \nstd                0.999278            79.314782  \nmin                0.269901           256.670582  \n25%                2.930450           445.038277  \n50%                3.533975           498.887875  \n75%                4.126502           549.313828  \nmax                6.922689           765.518462  ",
      "text/html": "<div>\n<style scoped>\n    .dataframe tbody tr th:only-of-type {\n        vertical-align: middle;\n    }\n\n    .dataframe tbody tr th {\n        vertical-align: top;\n    }\n\n    .dataframe thead th {\n        text-align: right;\n    }\n</style>\n<table border=\"1\" class=\"dataframe\">\n  <thead>\n    <tr style=\"text-align: right;\">\n      <th></th>\n      <th>Avg. Session Length</th>\n      <th>Time on App</th>\n      <th>Time on Website</th>\n      <th>Length of Membership</th>\n      <th>Yearly Amount Spent</th>\n    </tr>\n  </thead>\n  <tbody>\n    <tr>\n      <th>count</th>\n      <td>500.000000</td>\n      <td>500.000000</td>\n      <td>500.000000</td>\n      <td>500.000000</td>\n      <td>500.000000</td>\n    </tr>\n    <tr>\n      <th>mean</th>\n      <td>33.053194</td>\n      <td>12.052488</td>\n      <td>37.060445</td>\n      <td>3.533462</td>\n      <td>499.314038</td>\n    </tr>\n    <tr>\n      <th>std</th>\n      <td>0.992563</td>\n      <td>0.994216</td>\n      <td>1.010489</td>\n      <td>0.999278</td>\n      <td>79.314782</td>\n    </tr>\n    <tr>\n      <th>min</th>\n      <td>29.532429</td>\n      <td>8.508152</td>\n      <td>33.913847</td>\n      <td>0.269901</td>\n      <td>256.670582</td>\n    </tr>\n    <tr>\n      <th>25%</th>\n      <td>32.341822</td>\n      <td>11.388153</td>\n      <td>36.349257</td>\n      <td>2.930450</td>\n      <td>445.038277</td>\n    </tr>\n    <tr>\n      <th>50%</th>\n      <td>33.082008</td>\n      <td>11.983231</td>\n      <td>37.069367</td>\n      <td>3.533975</td>\n      <td>498.887875</td>\n    </tr>\n    <tr>\n      <th>75%</th>\n      <td>33.711985</td>\n      <td>12.753850</td>\n      <td>37.716432</td>\n      <td>4.126502</td>\n      <td>549.313828</td>\n    </tr>\n    <tr>\n      <th>max</th>\n      <td>36.139662</td>\n      <td>15.126994</td>\n      <td>40.005182</td>\n      <td>6.922689</td>\n      <td>765.518462</td>\n    </tr>\n  </tbody>\n</table>\n</div>"
     },
     "execution_count": 13,
     "metadata": {},
     "output_type": "execute_result"
    }
   ],
   "source": [
    "df_Ecommerce.describe()"
   ],
   "metadata": {
    "collapsed": false,
    "ExecuteTime": {
     "end_time": "2024-10-25T09:10:47.895024600Z",
     "start_time": "2024-10-25T09:10:47.860668500Z"
    }
   },
   "id": "e9778fc701bf4b6b",
   "execution_count": 13
  },
  {
   "cell_type": "code",
   "outputs": [
    {
     "name": "stdout",
     "output_type": "stream",
     "text": [
      "Email                   0\n",
      "Address                 0\n",
      "Avatar                  0\n",
      "Avg. Session Length     0\n",
      "Time on App             0\n",
      "Time on Website         0\n",
      "Length of Membership    0\n",
      "Yearly Amount Spent     0\n",
      "dtype: int64\n",
      "Email                   0.0\n",
      "Address                 0.0\n",
      "Avatar                  0.0\n",
      "Avg. Session Length     0.0\n",
      "Time on App             0.0\n",
      "Time on Website         0.0\n",
      "Length of Membership    0.0\n",
      "Yearly Amount Spent     0.0\n",
      "dtype: float64\n"
     ]
    }
   ],
   "source": [
    "print(df_Ecommerce.isnull().sum())\n",
    "print((df_Ecommerce.isnull().sum() / len(df_Ecommerce)) * 100)"
   ],
   "metadata": {
    "collapsed": false,
    "ExecuteTime": {
     "end_time": "2024-10-25T09:08:52.819598700Z",
     "start_time": "2024-10-25T09:08:52.704164200Z"
    }
   },
   "id": "e28c24142a525467",
   "execution_count": 8
  },
  {
   "cell_type": "code",
   "outputs": [
    {
     "data": {
      "text/plain": "499.31403825859053"
     },
     "execution_count": 14,
     "metadata": {},
     "output_type": "execute_result"
    }
   ],
   "source": [
    "df_Ecommerce['Yearly Amount Spent'].mean()"
   ],
   "metadata": {
    "collapsed": false,
    "ExecuteTime": {
     "end_time": "2024-10-25T09:11:56.576222600Z",
     "start_time": "2024-10-25T09:11:56.523318200Z"
    }
   },
   "id": "fa66fcff9a16b13c",
   "execution_count": 14
  },
  {
   "cell_type": "code",
   "outputs": [
    {
     "data": {
      "text/plain": "498.887875469115"
     },
     "execution_count": 15,
     "metadata": {},
     "output_type": "execute_result"
    }
   ],
   "source": [
    "df_Ecommerce['Yearly Amount Spent'].median()"
   ],
   "metadata": {
    "collapsed": false,
    "ExecuteTime": {
     "end_time": "2024-10-25T09:12:15.150184200Z",
     "start_time": "2024-10-25T09:12:15.136559300Z"
    }
   },
   "id": "a850a6f7679e7626",
   "execution_count": 15
  },
  {
   "cell_type": "code",
   "outputs": [
    {
     "data": {
      "text/plain": "79.31478154970677"
     },
     "execution_count": 16,
     "metadata": {},
     "output_type": "execute_result"
    }
   ],
   "source": [
    "df_Ecommerce['Yearly Amount Spent'].std()"
   ],
   "metadata": {
    "collapsed": false,
    "ExecuteTime": {
     "end_time": "2024-10-25T09:12:16.058281700Z",
     "start_time": "2024-10-25T09:12:16.050283600Z"
    }
   },
   "id": "7b2bfff647484e93",
   "execution_count": 16
  },
  {
   "cell_type": "markdown",
   "source": [],
   "metadata": {
    "collapsed": false
   },
   "id": "4d5bf7882f06e234"
  },
  {
   "cell_type": "code",
   "outputs": [
    {
     "data": {
      "text/plain": "64.1259221487748"
     },
     "execution_count": 23,
     "metadata": {},
     "output_type": "execute_result"
    }
   ],
   "source": [
    "df_Ecommerce['Yearly Amount Spent'].cov(df_Ecommerce['Length of Membership'])"
   ],
   "metadata": {
    "collapsed": false,
    "ExecuteTime": {
     "end_time": "2024-10-25T09:16:34.829990300Z",
     "start_time": "2024-10-25T09:16:34.813083400Z"
    }
   },
   "id": "f162bcda76e679dd",
   "execution_count": 23
  },
  {
   "cell_type": "code",
   "outputs": [],
   "source": [],
   "metadata": {
    "collapsed": false
   },
   "id": "c46e473e41d36511"
  }
 ],
 "metadata": {
  "kernelspec": {
   "display_name": "Python 3",
   "language": "python",
   "name": "python3"
  },
  "language_info": {
   "codemirror_mode": {
    "name": "ipython",
    "version": 2
   },
   "file_extension": ".py",
   "mimetype": "text/x-python",
   "name": "python",
   "nbconvert_exporter": "python",
   "pygments_lexer": "ipython2",
   "version": "2.7.6"
  }
 },
 "nbformat": 4,
 "nbformat_minor": 5
}
