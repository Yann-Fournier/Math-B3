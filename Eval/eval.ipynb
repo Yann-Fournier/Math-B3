{
 "cells": [
  {
   "cell_type": "code",
   "execution_count": 1,
   "metadata": {},
   "outputs": [
    {
     "data": {
      "text/plain": [
       "np.float64(3.0473595127585456)"
      ]
     },
     "execution_count": 1,
     "metadata": {},
     "output_type": "execute_result"
    }
   ],
   "source": [
    "import numpy as np\n",
    "\n",
    "# Données\n",
    "notes = np.array([8, 9, 12, 15, 16, 18])\n",
    "effectif = np.array([4, 8, 6, 4, 2, 1])\n",
    "\n",
    "# Calcul de la moyenne pondérée (moyenne des notes)\n",
    "moyenne = np.sum(notes * effectif) / np.sum(effectif)\n",
    "\n",
    "# Calcul de l'écart-type\n",
    "variance = np.sum(effectif * (notes - moyenne)**2) / np.sum(effectif)\n",
    "ecart_type = np.sqrt(variance)\n",
    "\n",
    "ecart_type"
   ]
  },
  {
   "cell_type": "code",
   "execution_count": null,
   "metadata": {},
   "outputs": [],
   "source": [
    "from sklearn.feature_extraction.text import TfidfVectorizer\n",
    "texts = [\n",
    "    \"Hello Ynov Paris\"\n",
    "    \"Hello Paris France\"\n",
    "    \"Bonjour Paris Ynov\"\n",
    "]\n",
    "# Étape 1 : Vectorisation TF-IDF\n",
    "vect = TfidfVectorizer()\n",
    "tfidf_mat = vect.fit_transform(texts).toarray()\n",
    "# Affichage des vecteurs TF-IDF\n",
    "print(\"Matrice TF-IDF :\\n\", tfidf_mat)"
   ]
  },
  {
   "cell_type": "code",
   "execution_count": null,
   "metadata": {},
   "outputs": [],
   "source": [
    "# Changer le code problèmatique\n",
    "from sklearn.feature_extraction.text import TfidfVectorizer\n",
    "from scipy.spatial.distance import cosine\n",
    "from scipy.stats import pearsonr\n",
    "\n",
    "# Corpus\n",
    "texts = [ \"Le traitement du langage naturel est fascinant.\", \"Le traitement des langues est une branche de l'intelligence artificielle.\", \"L'analyse de texte est utilisée pour la traduction automatique.\" ]\n",
    "\n",
    "# Vectorisation TF-IDF \n",
    "# vect = pearsonr() # Erreur\n",
    "vect = TfidfVectorizer() # Correction\n",
    "tfidf_mat = vect.fit_transform(texts).toarray()\n",
    "\n",
    "# Étape 2 : Similarité Cosine\n",
    "# cosine_similarity = 1 - cosine(tfidf_matrix[0], tfidf_matrix[1]) # Erreur\n",
    "cosine_similarity = 1 - cosine(tfidf_mat[0], tfidf_mat[1]) # Correction\n",
    "\n",
    "# Étape 3 : Corrélation de Pearson \n",
    "# pearson_corr = pearsonr(tfidf_matrix[0], tfidf_matrix[1]) # Erreur\n",
    "pearson_corr = pearsonr(tfidf_mat[0], tfidf_mat[1]) # Correction\n",
    "print(pearson_corr)\n"
   ]
  }
 ],
 "metadata": {
  "kernelspec": {
   "display_name": "Cours_Maths_B3",
   "language": "python",
   "name": "python3"
  },
  "language_info": {
   "codemirror_mode": {
    "name": "ipython",
    "version": 3
   },
   "file_extension": ".py",
   "mimetype": "text/x-python",
   "name": "python",
   "nbconvert_exporter": "python",
   "pygments_lexer": "ipython3",
   "version": "3.11.4"
  }
 },
 "nbformat": 4,
 "nbformat_minor": 2
}
